{
 "cells": [
  {
   "cell_type": "markdown",
   "id": "ea0582df-8485-4a93-a36e-db8504c790df",
   "metadata": {},
   "source": [
    "## Importing libraries"
   ]
  },
  {
   "cell_type": "code",
   "execution_count": 1,
   "id": "3057f64f-c874-4044-84c8-1dfeebcf37dc",
   "metadata": {},
   "outputs": [
    {
     "name": "stdout",
     "output_type": "stream",
     "text": [
      "WARNING:tensorflow:From F:\\ml-course\\Computer Vision Projects\\virtualenv\\Lib\\site-packages\\keras\\src\\losses.py:2976: The name tf.losses.sparse_softmax_cross_entropy is deprecated. Please use tf.compat.v1.losses.sparse_softmax_cross_entropy instead.\n",
      "\n"
     ]
    }
   ],
   "source": [
    "import mediapipe as mp\n",
    "import cv2\n",
    "import numpy as np\n",
    "# import uuid\n",
    "# import os"
   ]
  },
  {
   "cell_type": "markdown",
   "id": "3b781d48-b4da-4508-9e4f-c4b3f234c0ca",
   "metadata": {},
   "source": [
    "## Detecting Landmarks"
   ]
  },
  {
   "cell_type": "code",
   "execution_count": 2,
   "id": "e618d65e-133c-4078-bfb8-94b3b5e7f464",
   "metadata": {},
   "outputs": [],
   "source": [
    "mp_drawing = mp.solutions.drawing_utils\n",
    "mp_hands = mp.solutions.hands"
   ]
  },
  {
   "cell_type": "code",
   "execution_count": 17,
   "id": "f9f331a8-ee04-4dc8-b68b-5da7151303c2",
   "metadata": {},
   "outputs": [],
   "source": [
    "def detect_hands(point1, point2):\n",
    "    mp_drawing = mp.solutions.drawing_utils\n",
    "    mp_hands = mp.solutions.hands\n",
    "    \n",
    "    cap = cv2.VideoCapture(0)\n",
    "    \n",
    "    with mp_hands.Hands(max_num_hands=1, min_detection_confidence=0.8, min_tracking_confidence=0.5) as hands:\n",
    "        while True:\n",
    "            ret, frame = cap.read()\n",
    "            \n",
    "            frame = cv2.cvtColor(frame, cv2.COLOR_BGR2RGB)\n",
    "            frame = cv2.flip(frame, 1)\n",
    "    \n",
    "            frame.flags.writeable = False\n",
    "    \n",
    "            results = hands.process(frame)\n",
    "    \n",
    "            frame.flags.writeable = True\n",
    "    \n",
    "            frame = cv2.cvtColor(frame, cv2.COLOR_RGB2BGR)\n",
    "            \n",
    "            if results.multi_hand_landmarks:\n",
    "                for hand_landmarks in results.multi_hand_landmarks:\n",
    "                    # Draw only the landmarks for the index finger and thumb\n",
    "                    for landmark in [hand_landmarks.landmark[point1],\n",
    "                                    hand_landmarks.landmark[point2]]:\n",
    "                        x, y = int(landmark.x * frame.shape[1]), int(landmark.y * frame.shape[0])\n",
    "                        cv2.circle(frame, (x, y), 5, (255, 0, 0), -1)\n",
    "            cv2.imshow('Hand Tracking', frame)\n",
    "            if cv2.waitKey(10) & 0xFF == ord('q'):\n",
    "                break\n",
    "    \n",
    "    cap.release()\n",
    "    cv2.destroyAllWindows()\n"
   ]
  },
  {
   "cell_type": "code",
   "execution_count": 18,
   "id": "71a331c5-577b-49fb-9cc2-0e4e78afef20",
   "metadata": {},
   "outputs": [],
   "source": [
    "detect_hands(point1=mp_hands.HandLandmark.INDEX_FINGER_TIP, point2=mp_hands.HandLandmark.THUMB_TIP)"
   ]
  },
  {
   "cell_type": "code",
   "execution_count": null,
   "id": "f5eaabfb-fae5-4728-bedc-f3e6a452f5a9",
   "metadata": {},
   "outputs": [],
   "source": []
  }
 ],
 "metadata": {
  "kernelspec": {
   "display_name": "Python 3 (ipykernel)",
   "language": "python",
   "name": "python3"
  },
  "language_info": {
   "codemirror_mode": {
    "name": "ipython",
    "version": 3
   },
   "file_extension": ".py",
   "mimetype": "text/x-python",
   "name": "python",
   "nbconvert_exporter": "python",
   "pygments_lexer": "ipython3",
   "version": "3.11.5"
  }
 },
 "nbformat": 4,
 "nbformat_minor": 5
}
